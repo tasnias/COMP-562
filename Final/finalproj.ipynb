{
  "nbformat": 4,
  "nbformat_minor": 0,
  "metadata": {
    "colab": {
      "name": "finalproj.ipynb",
      "provenance": [],
      "collapsed_sections": []
    },
    "kernelspec": {
      "name": "python3",
      "display_name": "Python 3"
    }
  },
  "cells": [
    {
      "cell_type": "markdown",
      "metadata": {
        "id": "8mjvjyBrBRLs",
        "colab_type": "text"
      },
      "source": [
        "# COMP 562 Final Project\n",
        "\n",
        "**Topic**: Disaster Tweets\n",
        "\n",
        "**Dataset**: NLP Disaster Tweets (from Kaggle)\n",
        "\n",
        "**Description**: Given a tweet, decide whether or not it is talking about an actual distaster. Possible use cases for this are for news agencies who want to keep up on developments by using Twitter as a data source. \n",
        "\n",
        "**Group**: Tasnia Sarwar, Tylar Watson, Kipp Williams, Brennora Cameron"
      ]
    },
    {
      "cell_type": "markdown",
      "metadata": {
        "id": "7UcRHpDNX4qo",
        "colab_type": "text"
      },
      "source": [
        "## Part 1: Pre-Processing the Given Data\n",
        "* Reading in data\n",
        "* Cleaning data\n",
        "* Vectorizing data "
      ]
    },
    {
      "cell_type": "markdown",
      "metadata": {
        "id": "JWQ6F-vBMLnN",
        "colab_type": "text"
      },
      "source": [
        "### Part 1.1: Reading in Data\n",
        "\n",
        "**OUTPUT**: \n",
        "\n",
        "train: \n",
        "* pandas dataframe of the train.csv dataset.\n",
        "* $N$ x $5$ matrix where $N=7613 =$ number of tweets, and the $5$ columns are \n",
        "  * id: unique number identifying the tweet\n",
        "  * text: the content of the tweet\n",
        "  * keyword: any identified keywords in the tweet\n",
        "  * location: the location of the tweet's author\n",
        "  * target: 1 for disaster, 0 for not disaster\n",
        "\n",
        "\n",
        "test: \n",
        "* pandas dataframe of the test.csv dataset\n",
        "* $N$ x $4$ matrix where $N=3263 =$ number of tweets, and the $4$ columns are \n",
        "  * id: unique number identifying the tweet\n",
        "  * text: the content of the tweet\n",
        "  * keyword: any identified keywords in the tweet\n",
        "  * location: the location of the tweet's author\n",
        "\n",
        "\n"
      ]
    },
    {
      "cell_type": "code",
      "metadata": {
        "id": "h550inHQBsA7",
        "colab_type": "code",
        "outputId": "308d9da3-fbfa-4669-e9d2-a9ad6ef4b73d",
        "colab": {
          "base_uri": "https://localhost:8080/",
          "height": 51
        }
      },
      "source": [
        "# Import dependencies for this part\n",
        "import numpy as np\n",
        "import pandas as pd\n",
        "import re\n",
        "from string import punctuation \n",
        "import nltk\n",
        "nltk.download('stopwords')\n",
        "from nltk.corpus import stopwords\n",
        "from sklearn.feature_extraction.text import TfidfVectorizer, CountVectorizer"
      ],
      "execution_count": 0,
      "outputs": [
        {
          "output_type": "stream",
          "text": [
            "[nltk_data] Downloading package stopwords to /root/nltk_data...\n",
            "[nltk_data]   Package stopwords is already up-to-date!\n"
          ],
          "name": "stdout"
        }
      ]
    },
    {
      "cell_type": "code",
      "metadata": {
        "id": "HphRpxRubdAr",
        "colab_type": "code",
        "outputId": "b72f79bd-c246-4989-ddde-48b1e87c0d0d",
        "colab": {
          "base_uri": "https://localhost:8080/",
          "height": 34
        }
      },
      "source": [
        "# Read in csv files: https://towardsdatascience.com/3-ways-to-load-csv-files-into-colab-7c14fcbdcb92\n",
        "train_raw_url = 'https://raw.githubusercontent.com/tasnias/COMP-562/master/train.csv'\n",
        "test_raw_url = 'https://raw.githubusercontent.com/tasnias/COMP-562/master/test.csv'\n",
        "\n",
        "train = pd.read_csv(train_raw_url, dtype={'id': np.int16, 'target': np.int8}) \n",
        "test = pd.read_csv(test_raw_url, dtype={'id': np.int16})\n",
        "print('Done reading in train dataset and test dataset')"
      ],
      "execution_count": 0,
      "outputs": [
        {
          "output_type": "stream",
          "text": [
            "Done reading in train dataset and test dataset\n"
          ],
          "name": "stdout"
        }
      ]
    },
    {
      "cell_type": "markdown",
      "metadata": {
        "id": "mMx81r1zXStR",
        "colab_type": "text"
      },
      "source": [
        "### Part 1.2: Cleaning Data\n",
        "* Make text all lowercase\n",
        "* Trim whitespace\n",
        "* Clean urls\n",
        "* Remove newlines\n",
        "* \"Uncontract\" contractions\n",
        "* Remove non-standard characters (hashtags, punctuation, etc.)\n",
        "* Remove numbers\n"
      ]
    },
    {
      "cell_type": "code",
      "metadata": {
        "id": "EknNgfFPt11J",
        "colab_type": "code",
        "colab": {}
      },
      "source": [
        "def remove_contractions(tweet):\n",
        "    tweet = re.sub(r\"won\\'t\", \"will not\", tweet)\n",
        "    tweet = re.sub(r\"can\\'t\", \"can not\", tweet)\n",
        "    tweet = re.sub(r\"n\\'t\", \" not\", tweet)\n",
        "    tweet = re.sub(r\"\\'re\", \" are\", tweet)\n",
        "    tweet = re.sub(r\"\\'s\", \" is\", tweet)\n",
        "    tweet = re.sub(r\"\\'d\", \" would\", tweet)\n",
        "    tweet = re.sub(r\"\\'ll\", \" will\", tweet)\n",
        "    tweet = re.sub(r\"\\'t\", \" not\", tweet)\n",
        "    tweet = re.sub(r\"\\'ve\", \" have\", tweet)\n",
        "    tweet = re.sub(r\"\\'m\", \" am\", tweet)\n",
        "    return tweet\n",
        "\n",
        "def clean_tweet(tweet):\n",
        "  tweet = tweet.lower() # make lowercase\n",
        "  tweet = tweet.strip() # remove surrounding whitespace \n",
        "  text = re.sub('https?://\\S+|www\\.\\S+', '', tweet) # clean urls\n",
        "  tweet = re.sub('\\n', '', tweet) # remove new line\n",
        "  tweet = remove_contractions(tweet) # undo contractions\n",
        "  tweet = re.sub('[%s]' % re.escape(punctuation), '', tweet) # remove punctuation\n",
        "  tweet = re.sub('\\w*\\d\\w*', '', tweet) # remove words with numbers in them\n",
        "  return tweet"
      ],
      "execution_count": 0,
      "outputs": []
    },
    {
      "cell_type": "code",
      "metadata": {
        "id": "_NaeEwpsfW01",
        "colab_type": "code",
        "outputId": "749670a4-a21f-48ca-cd46-8453546d63f7",
        "colab": {
          "base_uri": "https://localhost:8080/",
          "height": 306
        }
      },
      "source": [
        "# clean the data\n",
        "train['text'] = train['text'].apply(lambda tweet: clean_tweet(tweet))\n",
        "test['text'] = test['text'].apply(lambda tweet: clean_tweet(tweet))\n",
        "\n",
        "print('Done cleaning train and test set')\n",
        "\n",
        "print('\\nExample training tweets:')\n",
        "print(train['text'][0:5])\n",
        "print('\\nExample testing tweets:')\n",
        "print(test['text'][0:5])"
      ],
      "execution_count": 0,
      "outputs": [
        {
          "output_type": "stream",
          "text": [
            "Done cleaning train and test set\n",
            "\n",
            "Example training tweets:\n",
            "0    our deeds are the reason of this earthquake ma...\n",
            "1                forest fire near la ronge sask canada\n",
            "2    all residents asked to  ishelter in place are ...\n",
            "3     people receive wildfires evacuation orders in...\n",
            "4    just got sent this photo from ruby alaska as s...\n",
            "Name: text, dtype: object\n",
            "\n",
            "Example testing tweets:\n",
            "0                   just happened a terrible car crash\n",
            "1    heard about earthquake is different cities sta...\n",
            "2    there is a forest fire at spot pond geese are ...\n",
            "3                apocalypse lighting spokane wildfires\n",
            "4          typhoon soudelor kills  in china and taiwan\n",
            "Name: text, dtype: object\n"
          ],
          "name": "stdout"
        }
      ]
    },
    {
      "cell_type": "markdown",
      "metadata": {
        "id": "RZXd46NusdGb",
        "colab_type": "text"
      },
      "source": [
        "### Part 1.3: Vectorizing\n",
        "* Tokenize and vectorize the tweets into numerical features that can be used in machine learning models\n",
        "* There are different options for vectorization, including count vectorization and TF-IDF vectorization\n",
        "* **Count Vectorization**: Pretty much bag of words. \n",
        "* **TF-IDF Vectorization**: Term Frequency - Inverse Document Frequency\n",
        "  * Given a word $i$ in a tweet $j$, TF-IDF assigns the word a numerical feature value as\n",
        "$$x_{i,j} = \\frac{\\text{occurrences of } i \\text{ in } j}{\\text{number of words in } j} * [1 + \\log{\\frac{\\text{number of tweets}}{\\text{number of tweets where } i \\text{ occurs}}}]$$\n",
        "\n",
        "**OUTPUT**: \n",
        "\n",
        "train_features_cv\n",
        "* input matrix where features are phrases inside each tweet. Features are vectorized using CountVectorizer\n",
        "* $N$ x $p$ matrix, where $N = 7613 = $ number of tweets in set and $p = 62886 = $ number of features per tweet\n",
        "\n",
        "test_features_cv\n",
        "* input matrix where features are phrases inside each tweet. Features are vectorized using CountVectorizer\n",
        "* $N$ x $p$ matrix, where $N = 3263 = $ number of tweets in set and $p = 62886 = $ number of features per tweet\n",
        "\n",
        "train_features_tfidf\n",
        "* input matrix where features are phrases inside each tweet. Features are vectorized using TfidfVectorizer\n",
        "* $N$ x $p$ matrix, where $N = 7613 = $ number of tweets in set and $p = 62886 = $ number of features per tweet\n",
        "\n",
        "test_features_tfidf\n",
        "* input matrix where features are phrases inside each tweet. Features are vectorized using TfidfVectorizer\n",
        "* $N$ x $p$ matrix, where $N = 3263 = $ number of tweets in set and $p = 62886 = $ number of features per tweet"
      ]
    },
    {
      "cell_type": "code",
      "metadata": {
        "id": "G8dfsnnUGlcU",
        "colab_type": "code",
        "outputId": "e703cb88-9582-483d-8860-72a93b23e592",
        "colab": {
          "base_uri": "https://localhost:8080/",
          "height": 34
        }
      },
      "source": [
        "# Count Vectorizer\n",
        "# stopwords removed; use monograms and bigrams\n",
        "count_vectorizer = CountVectorizer(stop_words=stopwords.words('english'), ngram_range=(1, 2))\n",
        "train_features_cv = count_vectorizer.fit_transform(train['text'])\n",
        "test_features_cv = count_vectorizer.transform(test[\"text\"])\n",
        "print('Done making phrases into features using Count Vectorizer for train and test sets')"
      ],
      "execution_count": 0,
      "outputs": [
        {
          "output_type": "stream",
          "text": [
            "Done making phrases into features using Count Vectorizer for train and test sets\n"
          ],
          "name": "stdout"
        }
      ]
    },
    {
      "cell_type": "code",
      "metadata": {
        "id": "UuCZsaT8xVik",
        "colab_type": "code",
        "outputId": "dc424ed1-a61e-4fe6-acb2-ef9ffdca56b3",
        "colab": {
          "base_uri": "https://localhost:8080/",
          "height": 34
        }
      },
      "source": [
        "# TF-IDF Vectorizer\n",
        "# l2 normalization is used by default; stopwords removed; use monograms and bigrams\n",
        "tfidf_vectorizer = TfidfVectorizer(stop_words=stopwords.words('english'), ngram_range=(1, 2))\n",
        "train_features_tfidf = tfidf_vectorizer.fit_transform(train['text'])\n",
        "test_features_tfidf = tfidf_vectorizer.transform(test[\"text\"])\n",
        "print('Done making phrases into features using TF-IDF Vectorizer for train and test sets')"
      ],
      "execution_count": 0,
      "outputs": [
        {
          "output_type": "stream",
          "text": [
            "Done making phrases into features using TF-IDF Vectorizer for train and test sets\n"
          ],
          "name": "stdout"
        }
      ]
    },
    {
      "cell_type": "markdown",
      "metadata": {
        "id": "l8KM8VJ4YPEj",
        "colab_type": "text"
      },
      "source": [
        "## Part 2: Implement Possible Models\n",
        "* Logistic Regression \n",
        "* SVM"
      ]
    },
    {
      "cell_type": "markdown",
      "metadata": {
        "id": "wYrI9q7jYusq",
        "colab_type": "text"
      },
      "source": [
        "### Part 2.1: Logistic Regression"
      ]
    },
    {
      "cell_type": "code",
      "metadata": {
        "id": "rJgQSQ2zhexe",
        "colab_type": "code",
        "outputId": "b560b3c7-39c2-469c-f569-ef98142abc09",
        "colab": {
          "base_uri": "https://localhost:8080/",
          "height": 861
        }
      },
      "source": [
        "from sklearn.model_selection import cross_val_score\n",
        "from sklearn.preprocessing import LabelEncoder\n",
        "from sklearn.model_selection import StratifiedKFold\n",
        "from sklearn.preprocessing import StandardScaler\n",
        "from sklearn import metrics\n",
        "from sklearn.model_selection import train_test_split\n",
        "from sklearn.linear_model import LogisticRegression\n",
        "from sklearn.metrics import classification_report\n",
        "from sklearn.metrics import roc_curve\n",
        "from sklearn.metrics import roc_auc_score\n",
        "from matplotlib import pyplot\n",
        "import seaborn as sea\n",
        "\n",
        "\n",
        "#accreditation for help: Surya Remanan, medium article writer & packtpub tensorflow documentation\n",
        "\n",
        "# split data into training and testing data\n",
        "\n",
        "x_train, x_test, y_train, y_test = train_test_split(train_features_tfidf, \n",
        "                                                    train['target'], test_size=0.30, \n",
        "                                                    random_state=101)\n",
        "\n",
        "\n",
        "# use the logistic regression model & fit to data\n",
        "lr_model = LogisticRegression()\n",
        "lr_model.fit(x_train,y_train)\n",
        "#make predictions\n",
        "prediction = lr_model.predict(x_test)\n",
        "#get roc/auc curve & score:\n",
        "lr_probs = lr_model.predict_proba(x_test)\n",
        "lr_probs = lr_probs[:, 1]\n",
        "lr_auc = roc_auc_score(y_test, lr_probs)\n",
        "lr_fpr, lr_tpr, _ = roc_curve(y_test, lr_probs)\n",
        "#print classification report\n",
        "print(\"----- Logistic Regression Model -----\")\n",
        "print(classification_report(y_test,prediction))\n",
        "#print auc score\n",
        "print('Logistic: ROC AUC=%.3f' % (lr_auc)) \n",
        "#print roc curve\n",
        "pyplot.plot(lr_fpr, lr_tpr, marker='.', label='Logistic')\n",
        "# axis labels\n",
        "pyplot.xlabel('False Positive Rate')\n",
        "pyplot.ylabel('True Positive Rate')\n",
        "# show the legend\n",
        "pyplot.legend()\n",
        "# show the plot\n",
        "pyplot.show()\n",
        "\n",
        "#confusion matrix\n",
        "c_matrix = metrics.confusion_matrix(y_test, prediction)\n",
        "c_matrix_labels1 = [\"True Negative\", \"False Positive\"]\n",
        "c_matrix_labels2 = [\"False Negative\",\"True Positive\"]\n",
        "\n",
        "print(c_matrix)\n",
        "print(c_matrix_labels1)\n",
        "print(c_matrix_labels2)\n",
        "#confusion matrix heatmap\n",
        "class_names=[0,1] # name  of classes\n",
        "fig, ax = pyplot.subplots()\n",
        "tick_marks = np.arange(len(class_names))\n",
        "pyplot.xticks(tick_marks, class_names)\n",
        "pyplot.yticks(tick_marks, class_names)\n",
        "# create heatmap\n",
        "cmap = sea.diverging_palette(10, 220, sep=80, n=7)\n",
        "sea.heatmap(pd.DataFrame(c_matrix), annot=True, cmap=cmap ,fmt='g')\n",
        "pyplot.tight_layout()\n",
        "pyplot.title('Confusion matrix', y=1.1)\n",
        "pyplot.ylabel('Actual label')\n",
        "pyplot.xlabel('Predicted label')"
      ],
      "execution_count": 0,
      "outputs": [
        {
          "output_type": "stream",
          "text": [
            "----- Logistic Regression Model -----\n",
            "              precision    recall  f1-score   support\n",
            "\n",
            "           0       0.74      0.95      0.84      1330\n",
            "           1       0.90      0.54      0.67       954\n",
            "\n",
            "    accuracy                           0.78      2284\n",
            "   macro avg       0.82      0.75      0.75      2284\n",
            "weighted avg       0.81      0.78      0.77      2284\n",
            "\n",
            "Logistic: ROC AUC=0.854\n"
          ],
          "name": "stdout"
        },
        {
          "output_type": "display_data",
          "data": {
            "image/png": "[encoded data removed]",
            "text/plain": [
              "<Figure size 432x288 with 1 Axes>"
            ]
          },
          "metadata": {
            "tags": [],
            "needs_background": "light"
          }
        },
        {
          "output_type": "stream",
          "text": [
            "[[1270   60]\n",
            " [ 439  515]]\n",
            "['True Negative', 'False Positive']\n",
            "['False Negative', 'True Positive']\n"
          ],
          "name": "stdout"
        },
        {
          "output_type": "execute_result",
          "data": {
            "text/plain": [
              "Text(0.5, 15.0, 'Predicted label')"
            ]
          },
          "metadata": {
            "tags": []
          },
          "execution_count": 47
        },
        {
          "output_type": "display_data",
          "data": {
            "image/png": "[encoded data removed]",
            "text/plain": [
              "<Figure size 432x288 with 2 Axes>"
            ]
          },
          "metadata": {
            "tags": [],
            "needs_background": "light"
          }
        }
      ]
    },
    {
      "cell_type": "markdown",
      "metadata": {
        "id": "42CCX-DpYy5l",
        "colab_type": "text"
      },
      "source": [
        "### Part 2.2: SVM"
      ]
    },
    {
      "cell_type": "code",
      "metadata": {
        "id": "H63DWyoTmEvy",
        "colab_type": "code",
        "outputId": "8dc8abc7-beaf-4490-b930-e5dd9ef91d5f",
        "colab": {
          "base_uri": "https://localhost:8080/",
          "height": 1000
        }
      },
      "source": [
        "\n",
        "# Import train_test_split function\n",
        "from sklearn.model_selection import train_test_split\n",
        "# Import metrics\n",
        "from sklearn import metrics\n",
        "from sklearn.model_selection import train_test_split\n",
        "\n",
        "from sklearn.metrics import roc_curve\n",
        "from sklearn.metrics import roc_auc_score\n",
        "from matplotlib import pyplot\n",
        "\n",
        "from sklearn.model_selection import GridSearchCV\n",
        "from sklearn.metrics import classification_report\n",
        "from sklearn.svm import SVC\n",
        "\n",
        "# Split dataset into training set and test set\n",
        "x_train, x_test, y_train, y_test = train_test_split(train_features_tfidf, train['target'], test_size=0.3,random_state=101) # 70% training and 30% test\n",
        "\n",
        "\n",
        "#Import svm model\n",
        "from sklearn import svm \n",
        "\n",
        "# Set the parameters by cross-validation\n",
        "tuned_parameters = [{'kernel': ['rbf'], 'gamma': [1e-3, 1e-4],\n",
        "                     'C': [1, 10, 100, 1000]},\n",
        "                    {'kernel': ['linear'], 'C': [1, 10, 100, 1000]}]\n",
        "\n",
        "scores = ['precision', 'recall']\n",
        "\n",
        "for score in scores:\n",
        "    print(\"# Tuning hyper-parameters for %s\" % score)\n",
        "    print()\n",
        "\n",
        "    clf = GridSearchCV(\n",
        "        SVC(), tuned_parameters, scoring='%s_macro' % score\n",
        "    )\n",
        "    clf.fit(x_train, y_train)\n",
        "\n",
        "    print(\"Best parameters set found on development set:\")\n",
        "    print()\n",
        "    print(clf.best_params_)\n",
        "    print()\n",
        "    print(\"Grid scores on development set:\")\n",
        "    print()\n",
        "    means = clf.cv_results_['mean_test_score']\n",
        "    stds = clf.cv_results_['std_test_score']\n",
        "    for mean, std, params in zip(means, stds, clf.cv_results_['params']):\n",
        "        print(\"%0.3f (+/-%0.03f) for %r\"\n",
        "              % (mean, std * 2, params))\n",
        "    print()\n",
        "\n",
        "    print(\"Detailed classification report:\")\n",
        "    print()\n",
        "    print(\"The model is trained on the full development set.\")\n",
        "    print(\"The scores are computed on the full evaluation set.\")\n",
        "    print()\n",
        "    y_true, y_pred = y_test, clf.predict(x_test)\n",
        "    print(classification_report(y_true, y_pred))\n",
        "    print()\n"
      ],
      "execution_count": 0,
      "outputs": [
        {
          "output_type": "stream",
          "text": [
            "# Tuning hyper-parameters for precision\n",
            "\n"
          ],
          "name": "stdout"
        },
        {
          "output_type": "stream",
          "text": [
            "/usr/local/lib/python3.6/dist-packages/sklearn/metrics/_classification.py:1272: UndefinedMetricWarning: Precision is ill-defined and being set to 0.0 in labels with no predicted samples. Use `zero_division` parameter to control this behavior.\n",
            "  _warn_prf(average, modifier, msg_start, len(result))\n"
          ],
          "name": "stderr"
        },
        {
          "output_type": "stream",
          "text": [
            "Best parameters set found on development set:\n",
            "\n",
            "{'C': 1, 'kernel': 'linear'}\n",
            "\n",
            "Grid scores on development set:\n",
            "\n",
            "0.283 (+/-0.000) for {'C': 1, 'gamma': 0.001, 'kernel': 'rbf'}\n",
            "0.283 (+/-0.000) for {'C': 1, 'gamma': 0.0001, 'kernel': 'rbf'}\n",
            "0.283 (+/-0.000) for {'C': 10, 'gamma': 0.001, 'kernel': 'rbf'}\n",
            "0.283 (+/-0.000) for {'C': 10, 'gamma': 0.0001, 'kernel': 'rbf'}\n",
            "0.802 (+/-0.012) for {'C': 100, 'gamma': 0.001, 'kernel': 'rbf'}\n",
            "0.283 (+/-0.000) for {'C': 100, 'gamma': 0.0001, 'kernel': 'rbf'}\n",
            "0.800 (+/-0.030) for {'C': 1000, 'gamma': 0.001, 'kernel': 'rbf'}\n",
            "0.802 (+/-0.012) for {'C': 1000, 'gamma': 0.0001, 'kernel': 'rbf'}\n",
            "0.811 (+/-0.023) for {'C': 1, 'kernel': 'linear'}\n",
            "0.793 (+/-0.025) for {'C': 10, 'kernel': 'linear'}\n",
            "0.793 (+/-0.029) for {'C': 100, 'kernel': 'linear'}\n",
            "0.779 (+/-0.093) for {'C': 1000, 'kernel': 'linear'}\n",
            "\n",
            "Detailed classification report:\n",
            "\n",
            "The model is trained on the full development set.\n",
            "The scores are computed on the full evaluation set.\n",
            "\n",
            "              precision    recall  f1-score   support\n",
            "\n",
            "           0       0.78      0.92      0.84      1330\n",
            "           1       0.85      0.63      0.73       954\n",
            "\n",
            "    accuracy                           0.80      2284\n",
            "   macro avg       0.81      0.78      0.78      2284\n",
            "weighted avg       0.81      0.80      0.79      2284\n",
            "\n",
            "\n",
            "# Tuning hyper-parameters for recall\n",
            "\n",
            "Best parameters set found on development set:\n",
            "\n",
            "{'C': 1000, 'gamma': 0.001, 'kernel': 'rbf'}\n",
            "\n",
            "Grid scores on development set:\n",
            "\n",
            "0.500 (+/-0.000) for {'C': 1, 'gamma': 0.001, 'kernel': 'rbf'}\n",
            "0.500 (+/-0.000) for {'C': 1, 'gamma': 0.0001, 'kernel': 'rbf'}\n",
            "0.500 (+/-0.000) for {'C': 10, 'gamma': 0.001, 'kernel': 'rbf'}\n",
            "0.500 (+/-0.000) for {'C': 10, 'gamma': 0.0001, 'kernel': 'rbf'}\n",
            "0.597 (+/-0.014) for {'C': 100, 'gamma': 0.001, 'kernel': 'rbf'}\n",
            "0.500 (+/-0.000) for {'C': 100, 'gamma': 0.0001, 'kernel': 'rbf'}\n",
            "0.774 (+/-0.037) for {'C': 1000, 'gamma': 0.001, 'kernel': 'rbf'}\n",
            "0.597 (+/-0.015) for {'C': 1000, 'gamma': 0.0001, 'kernel': 'rbf'}\n",
            "0.771 (+/-0.029) for {'C': 1, 'kernel': 'linear'}\n",
            "0.769 (+/-0.034) for {'C': 10, 'kernel': 'linear'}\n",
            "0.770 (+/-0.032) for {'C': 100, 'kernel': 'linear'}\n",
            "0.756 (+/-0.068) for {'C': 1000, 'kernel': 'linear'}\n",
            "\n",
            "Detailed classification report:\n",
            "\n",
            "The model is trained on the full development set.\n",
            "The scores are computed on the full evaluation set.\n",
            "\n",
            "              precision    recall  f1-score   support\n",
            "\n",
            "           0       0.79      0.89      0.84      1330\n",
            "           1       0.81      0.67      0.73       954\n",
            "\n",
            "    accuracy                           0.80      2284\n",
            "   macro avg       0.80      0.78      0.78      2284\n",
            "weighted avg       0.80      0.80      0.79      2284\n",
            "\n",
            "\n"
          ],
          "name": "stdout"
        }
      ]
    },
    {
      "cell_type": "code",
      "metadata": {
        "id": "lmUjRSOk8PiS",
        "colab_type": "code",
        "outputId": "74cb5074-eea1-44b4-ec44-564235010f9e",
        "colab": {
          "base_uri": "https://localhost:8080/",
          "height": 1000
        }
      },
      "source": [
        "from sklearn import metrics\n",
        "import matplotlib.pyplot as plt \n",
        "models = [\n",
        "{\n",
        "    'label': 'Linear SVM',\n",
        "    'model': svm.SVC(kernel='linear', C=1, probability=True),\n",
        "},\n",
        "{\n",
        "    'label': 'Gaussian SVM',\n",
        "    'model': svm.SVC(kernel='rbf', gamma=.001, C=1000, probability=True),\n",
        "}\n",
        "]\n",
        "\n",
        "# Below for loop iterates through your models list\n",
        "for m in models:\n",
        "    model = m['model'] # select the model\n",
        "    model.fit(x_train, y_train) # train the model\n",
        "    y_pred=model.predict(x_test) # predict the test data\n",
        " #print classification report\n",
        "    print(m['label'])\n",
        "    print(classification_report(y_test,y_pred))\n",
        "#confusion matrix\n",
        "    c_matrix = metrics.confusion_matrix(y_test, y_pred)\n",
        "    c_matrix_labels1 = [\"True Positive\", \"False Positive\"]\n",
        "    c_matrix_labels2 = [\"False Negative\",\"True Negative\"]\n",
        "\n",
        "    print(c_matrix)\n",
        "    print(c_matrix_labels1)\n",
        "    print(c_matrix_labels2)\n",
        "    #confusion matrix heatmap\n",
        "    class_names=[0,1] # name  of classes\n",
        "    fig, ax = pyplot.subplots()\n",
        "    tick_marks = np.arange(len(class_names))\n",
        "    pyplot.xticks(tick_marks, class_names)\n",
        "    pyplot.yticks(tick_marks, class_names)\n",
        "    # create heatmap\n",
        "    cmap = sea.diverging_palette(10, 220, sep=80, n=7)\n",
        "    sea.heatmap(pd.DataFrame(c_matrix), annot=True, cmap=cmap ,fmt='g')\n",
        "    pyplot.tight_layout()\n",
        "    pyplot.title(m['label']+' Confusion matrix', y=1.1)\n",
        "    pyplot.ylabel('Actual label')\n",
        "    pyplot.xlabel('Predicted label')"
      ],
      "execution_count": 0,
      "outputs": [
        {
          "output_type": "stream",
          "text": [
            "Linear SVM\n",
            "              precision    recall  f1-score   support\n",
            "\n",
            "           0       0.78      0.92      0.84      1330\n",
            "           1       0.85      0.63      0.73       954\n",
            "\n",
            "    accuracy                           0.80      2284\n",
            "   macro avg       0.81      0.78      0.78      2284\n",
            "weighted avg       0.81      0.80      0.79      2284\n",
            "\n",
            "[[1224  106]\n",
            " [ 351  603]]\n",
            "['True Positive', 'False Positive']\n",
            "['False Negative', 'True Negative']\n",
            "Gaussian SVM\n",
            "              precision    recall  f1-score   support\n",
            "\n",
            "           0       0.79      0.89      0.84      1330\n",
            "           1       0.81      0.67      0.73       954\n",
            "\n",
            "    accuracy                           0.80      2284\n",
            "   macro avg       0.80      0.78      0.78      2284\n",
            "weighted avg       0.80      0.80      0.79      2284\n",
            "\n",
            "[[1182  148]\n",
            " [ 318  636]]\n",
            "['True Positive', 'False Positive']\n",
            "['False Negative', 'True Negative']\n"
          ],
          "name": "stdout"
        },
        {
          "output_type": "display_data",
          "data": {
            "image/png": "[encoded data removed]",
            "text/plain": [
              "<Figure size 432x288 with 2 Axes>"
            ]
          },
          "metadata": {
            "tags": [],
            "needs_background": "light"
          }
        },
        {
          "output_type": "display_data",
          "data": {
            "image/png": "[encoded data removed]",
            "text/plain": [
              "<Figure size 432x288 with 2 Axes>"
            ]
          },
          "metadata": {
            "tags": [],
            "needs_background": "light"
          }
        }
      ]
    },
    {
      "cell_type": "code",
      "metadata": {
        "id": "AA2vmCmn12TC",
        "colab_type": "code",
        "outputId": "5124b073-0133-456f-cd35-4f3ccbd6e494",
        "colab": {
          "base_uri": "https://localhost:8080/",
          "height": 295
        }
      },
      "source": [
        "from sklearn.linear_model import LogisticRegression\n",
        "from sklearn import metrics\n",
        "import matplotlib.pyplot as plt\n",
        "\n",
        "plt.figure()\n",
        "\n",
        "# Add the models to the list that you want to view on the ROC plot\n",
        "models = [\n",
        "{\n",
        "    'label': 'Linear SVM',\n",
        "    'model': svm.SVC(kernel='linear', C=1, probability=True),\n",
        "},\n",
        "{\n",
        "    'label': 'Gaussian SVM',\n",
        "    'model': svm.SVC(kernel='rbf', gamma=.001, C=1000, probability=True),\n",
        "}\n",
        "]\n",
        "\n",
        "# Below for loop iterates through your models list\n",
        "for m in models:\n",
        "    model = m['model'] # select the model\n",
        "    model.fit(x_train, y_train) # train the model\n",
        "    y_pred=model.predict(x_test) # predict the test data\n",
        "# Compute False postive rate, and True positive rate\n",
        "    fpr, tpr, thresholds = metrics.roc_curve(y_test, model.predict_proba(x_test)[:,1])\n",
        "# Calculate Area under the curve to display on the plot\n",
        "    auc = metrics.roc_auc_score(y_test,model.predict(x_test))\n",
        "# Now, plot the computed values\n",
        "    plt.plot(fpr, tpr, label='%s ROC (area = %0.2f)' % (m['label'], auc))\n",
        "# Custom settings for the plot \n",
        "plt.plot([0, 1], [0, 1],'r--')\n",
        "plt.xlim([0.0, 1.0])\n",
        "plt.ylim([0.0, 1.05])\n",
        "plt.xlabel('False Positive Rate')\n",
        "plt.ylabel('True Positive Rate')\n",
        "plt.title('Receiver Operating Characteristic')\n",
        "plt.legend(loc=\"lower right\")\n",
        "plt.show()   # Display\n"
      ],
      "execution_count": 0,
      "outputs": [
        {
          "output_type": "display_data",
          "data": {
            "image/png": "[encoded data removed]",
            "text/plain": [
              "<Figure size 432x288 with 1 Axes>"
            ]
          },
          "metadata": {
            "tags": [],
            "needs_background": "light"
          }
        }
      ]
    }
  ]
}